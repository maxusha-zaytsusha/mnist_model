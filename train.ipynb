{
 "cells": [
  {
   "cell_type": "markdown",
   "metadata": {
    "id": "w4wCeWZnyQHH"
   },
   "source": [
    "**В этом ноутбуке представлено построение и обучение сверточной нейронной сети для классификации цифр на изображениях из датасета MNIST**"
   ]
  },
  {
   "cell_type": "markdown",
   "metadata": {
    "id": "KV4dIoutz47X"
   },
   "source": [
    "Импортируем библиотеки"
   ]
  },
  {
   "cell_type": "code",
   "execution_count": 1,
   "metadata": {
    "id": "lGspxo9HaWPY"
   },
   "outputs": [],
   "source": [
    "import torch\n",
    "import torchvision\n",
    "\n",
    "from torchvision.datasets import ImageFolder\n",
    "from torch.utils.data import Dataset, DataLoader\n",
    "\n",
    "from torchvision import transforms\n",
    "from torchvision.transforms import v2\n",
    "\n",
    "from tqdm import tqdm\n",
    "\n",
    "import os\n",
    "import matplotlib.pyplot as plt\n",
    "\n",
    "from PIL import Image\n",
    "\n",
    "import sys\n",
    "\n",
    "from os import path\n",
    "\n",
    "from torch import nn"
   ]
  },
  {
   "cell_type": "markdown",
   "metadata": {
    "id": "pijPsoMM0KKJ"
   },
   "source": [
    "Загружаем  датасет MNIST из библиотеки PyTorch"
   ]
  },
  {
   "cell_type": "code",
   "execution_count": null,
   "metadata": {
    "id": "cYbUmJDMac3T"
   },
   "outputs": [],
   "source": [
    "train_data = torchvision.datasets.MNIST(root='dataset', train=True, download=True)\n",
    "test_data = torchvision.datasets.MNIST(root='dataset', train=False, download=True)"
   ]
  },
  {
   "cell_type": "markdown",
   "metadata": {
    "id": "-gWcFWQu1f3S"
   },
   "source": [
    "Распаковываем датасет и размещаем на диске следующим образом:\n",
    "\n",
    "Папки `train` и `test`, находящиеся по адресу `dataset/MNIST/images`, содержат тренеровочную и тестувую выборку соответственно. В них картинки распределены по папкам, название которых это цыфра, изображения которой находятся в этой папке"
   ]
  },
  {
   "cell_type": "code",
   "execution_count": null,
   "metadata": {
    "id": "gGsB_tSbaxhp"
   },
   "outputs": [],
   "source": [
    "# функция, которая распаковывает бинарник с датасетом и сохраняет картинки по указанному пути\n",
    "def convert_to_jpg(dataset, output_folder):\n",
    "\t'''\n",
    "\tdataset - объект выборки\n",
    "\toutput_folder - путь, по которому сохраняется выборка\n",
    "\t'''\n",
    "\n",
    "\tfor i, (image, label) in enumerate(dataset):\n",
    "\n",
    "\t\tsave_folder = os.path.join(output_folder, str(label))\n",
    "\n",
    "\t\tif not os.path.exists(save_folder):\n",
    "\t\t\tos.makedirs(save_folder)\n",
    "\n",
    "\t\timage.save(os.path.join(save_folder, f'{i}.jpg'))\n",
    "\n",
    "convert_to_jpg(train_data, \"dataset/MNIST/images/train\")\n",
    "convert_to_jpg(test_data, \"dataset/MNIST/images/test\")"
   ]
  },
  {
   "cell_type": "markdown",
   "metadata": {
    "id": "FKLfHVDV3ZY-"
   },
   "source": [
    "Описываем свой класс датасета MNIST"
   ]
  },
  {
   "cell_type": "code",
   "execution_count": null,
   "metadata": {
    "id": "JkXu1p9uciex"
   },
   "outputs": [],
   "source": [
    "class MNISTDataSet(Dataset):\n",
    "\n",
    "\n",
    "\t# конструктор класса\n",
    "\tdef __init__(self, path: str, transform: v2.Compose=None):\n",
    "\t\t'''\n",
    "\t\tpath - путь к папке с выборкой\n",
    "\t\ttransform - объект трансформации изображения\n",
    "\t\t'''\n",
    "\n",
    "\t\tself.path = path\n",
    "\t\tself.transform = transform\n",
    "\n",
    "\t\tself.len_dataset = 0    # размер выборки\n",
    "\t\tself.data_list = []     # список пар (путь к картинке, класс картинки)\n",
    "\n",
    "\t\t# перебираем папки и файлы по указанному пути\n",
    "\t\tfor path_dir, dir_list, file_list in os.walk(path):\n",
    "\n",
    "\t\t\t# если сейчас находимся в папке path, записываем названия папок в классы\n",
    "\t\t\tif path_dir == path:\n",
    "\t\t\t\tself.classes = dir_list\n",
    "\t\t\t\tself.clas_to_idx = {\n",
    "\t\t\t\t\tcls_name: i for i, cls_name in enumerate(self.classes)\n",
    "\t\t\t\t}\n",
    "\t\t\t\tcontinue\n",
    "\n",
    "\t\t\tcls = path_dir.split('/')[-1]\n",
    "\n",
    "\t\t\t# добавляем картинку и ее класс в data_list\n",
    "\t\t\tfor name_file in file_list:\n",
    "\t\t\t\tfile_path = os.path.join(path_dir, name_file)\n",
    "\t\t\t\tself.data_list.append((file_path, self.clas_to_idx[cls]))\n",
    "\n",
    "\t\t\tself.len_dataset += len(file_list)\n",
    "\n",
    "\n",
    "\t# метод олучения длины\n",
    "\tdef __len__(self):\n",
    "\t\treturn self.len_dataset\n",
    "\n",
    "\n",
    "\t# метод обращения по индексу\n",
    "\tdef __getitem__(self, index: int):\n",
    "\t\t'''\n",
    "\t\tindex - индекс семпла датасета\n",
    "\t\t'''\n",
    "\n",
    "\t\t# открываем картинку\n",
    "\t\tfile_path, target = self.data_list[index]\n",
    "\t\tsample = Image.open(file_path)\n",
    "\n",
    "\t\t# применяем трансформацию, если необходимо\n",
    "\t\tif self.transform:\n",
    "\t\t\tsample = self.transform(sample)\n",
    "\n",
    "\t\treturn sample, target"
   ]
  },
  {
   "cell_type": "markdown",
   "metadata": {
    "id": "BTkKz2u06LAI"
   },
   "source": [
    "Создаем объект транформации изображения.\n",
    "В нем мы превращаем изображение в матрицу, значения в которых - это яркость пикселя, переводим значения в `float32` и приводим к распределению со средним 0.5 и стандартным отклонением 0.5"
   ]
  },
  {
   "cell_type": "code",
   "execution_count": null,
   "metadata": {
    "id": "qIEPRWXlc_vN"
   },
   "outputs": [],
   "source": [
    "transform = v2.Compose(\n",
    "\t[\n",
    "\t\tv2.ToTensor(),\n",
    "\t\tv2.ToDtype(torch.float32, scale=True),\n",
    "\t\tv2.Normalize(mean=(0.5,), std=(0.5,))\n",
    "\t]\n",
    ")"
   ]
  },
  {
   "cell_type": "markdown",
   "metadata": {
    "id": "MQsSB1xi61Q2"
   },
   "source": [
    "Переводим классы `train_data` и `test_data` в наш `MNISTDataSet`"
   ]
  },
  {
   "cell_type": "code",
   "execution_count": null,
   "metadata": {
    "id": "MXKftjfkdCOc"
   },
   "outputs": [],
   "source": [
    "path = \"/dataset/MNIST/images/\"\n",
    "\n",
    "path = \"/content\" + path    # добавка к пути для колаба\n",
    "\n",
    "train_data = MNISTDataSet(path + \"train\", transform=transform)\n",
    "test_data = MNISTDataSet(path + \"train\", transform=transform)"
   ]
  },
  {
   "cell_type": "markdown",
   "metadata": {
    "id": "D2CXpsP67F5f"
   },
   "source": [
    "Проверяем размер тренеровочной выборки и пробуем нарисовать одну из цифр"
   ]
  },
  {
   "cell_type": "code",
   "execution_count": 59,
   "metadata": {
    "colab": {
     "base_uri": "https://localhost:8080/"
    },
    "id": "GJX2vw_2pVfm",
    "outputId": "3f9aa62b-822b-4a95-bed5-0f5bfd3157c3"
   },
   "outputs": [
    {
     "data": {
      "text/plain": [
       "60000"
      ]
     },
     "execution_count": 59,
     "metadata": {},
     "output_type": "execute_result"
    }
   ],
   "source": [
    "len(train_data)"
   ]
  },
  {
   "cell_type": "code",
   "execution_count": 34,
   "metadata": {
    "colab": {
     "base_uri": "https://localhost:8080/",
     "height": 447
    },
    "id": "OBkvXfOMdWZz",
    "outputId": "ba9eed77-bdb4-4eeb-e4bf-b8fdaceda003"
   },
   "outputs": [
    {
     "data": {
      "text/plain": [
       "<matplotlib.image.AxesImage at 0x79fc424a5990>"
      ]
     },
     "execution_count": 34,
     "metadata": {},
     "output_type": "execute_result"
    },
    {
     "data": {
      "image/png": "[encoded data removed]",
      "text/plain": [
       "<Figure size 640x480 with 1 Axes>"
      ]
     },
     "metadata": {},
     "output_type": "display_data"
    }
   ],
   "source": [
    "plt.imshow(train_data[40000][0][0])"
   ]
  },
  {
   "cell_type": "markdown",
   "metadata": {
    "id": "eyEQIeBR7QPO"
   },
   "source": [
    "Теперь создаем загрузчики батчей для тренеровочной и тестовой выборок, не забываем перемешывать тренеровочную выборку"
   ]
  },
  {
   "cell_type": "code",
   "execution_count": 35,
   "metadata": {
    "id": "nL5tLjdId8nt"
   },
   "outputs": [],
   "source": [
    "train_loader = DataLoader(train_data, batch_size=16, shuffle=True)\n",
    "test_loader = DataLoader(test_data, batch_size=16, shuffle=False)"
   ]
  },
  {
   "cell_type": "markdown",
   "metadata": {
    "id": "GEK-IeVC7qpE"
   },
   "source": [
    "В переменную device сохраняем `\"cuda\"`, если возможно обучение на GPU, иначе сохраняем `\"cpu\"`"
   ]
  },
  {
   "cell_type": "code",
   "execution_count": 36,
   "metadata": {
    "colab": {
     "base_uri": "https://localhost:8080/",
     "height": 35
    },
    "id": "vQP_fO4IeGaU",
    "outputId": "573045e0-ba11-4be0-9501-ead19d75c374"
   },
   "outputs": [
    {
     "data": {
      "application/vnd.google.colaboratory.intrinsic+json": {
       "type": "string"
      },
      "text/plain": [
       "'cuda'"
      ]
     },
     "execution_count": 36,
     "metadata": {},
     "output_type": "execute_result"
    }
   ],
   "source": [
    "device = 'cuda' if torch.cuda.is_available() else \"cpu\"\n",
    "device"
   ]
  },
  {
   "cell_type": "markdown",
   "metadata": {
    "id": "08OuSr9D8E4J"
   },
   "source": [
    "Объявляем класс сверточной нейронной сети с методами для обучения и предсказания"
   ]
  },
  {
   "cell_type": "code",
   "execution_count": null,
   "metadata": {
    "id": "Or8ZnsAaeJAY"
   },
   "outputs": [],
   "source": [
    "class MNISTModel(nn.Module):\n",
    "\n",
    "\t# конструктор\n",
    "\tdef __init__(self):\n",
    "\t\tsuper().__init__()\n",
    "\n",
    "\t\t# устройство, на котором находятся веса модели\n",
    "\t\tself.device = \"cpu\"\n",
    "\n",
    "\t\t# сверточная часть модели\n",
    "\t\t# 4 сверточных слоя с Batchnorm и relu в качестве функций активации\n",
    "\t\t# Для понижения размерности используется maxpool\n",
    "\t\tself.conv = nn.Sequential(\n",
    "\t\t   nn.Conv2d(1, 32, kernel_size = 3, stride = 1, padding = 1),\n",
    "\t\t   nn.BatchNorm2d(32),\n",
    "\t\t   nn.ReLU(),\n",
    "\n",
    "\t\t   nn.Conv2d(32, 32, kernel_size = 3, stride = 1, padding = 1),\n",
    "\t\t   nn.BatchNorm2d(32),\n",
    "\t\t   nn.ReLU(),\n",
    "\n",
    "\t\t   nn.MaxPool2d(kernel_size=2, stride=2),\n",
    "\n",
    "\t\t   nn.Conv2d(32, 64, kernel_size = 3, padding = 1),\n",
    "\t\t   nn.BatchNorm2d(64),\n",
    "\t\t   nn.ReLU(),\n",
    "\n",
    "\t\t   nn.Conv2d(64, 64, kernel_size = 3, padding = 1),\n",
    "\t\t   nn.BatchNorm2d(64),\n",
    "\t\t   nn.ReLU(),\n",
    "\n",
    "\t\t   nn.MaxPool2d(kernel_size=2, stride=2)\n",
    "\t\t)\n",
    "\n",
    "\t\t# Полносвязная часть сети\n",
    "\t\t# 2 скрытых слоя с batchnorm и dropout, функция активации relu\n",
    "\t\tself.dence = nn.Sequential(\n",
    "\t\t\tnn.Dropout(0.5),\n",
    "\t\t\tnn.Linear(64 * 7 * 7, 512),\n",
    "\t\t\tnn.BatchNorm1d(512),\n",
    "\t\t\tnn.ReLU(),\n",
    "\n",
    "\t\t\tnn.Dropout(0.5),\n",
    "\t\t\tnn.Linear(512, 512),\n",
    "\t\t\tnn.BatchNorm1d(512),\n",
    "\t\t\tnn.ReLU(),\n",
    "\n",
    "\t\t\tnn.Dropout(0.5),\n",
    "\t\t\tnn.Linear(512, 10),\n",
    "\t\t)\n",
    "\n",
    "\t\tself.loss = nn.CrossEntropyLoss()\n",
    "\t\tself.softmax = nn.Softmax(dim=1)\n",
    "\n",
    "\n",
    "\t# переопределяем метод to родительского класса для сохранения устроиства\n",
    "\tdef to(self, device: str):\n",
    "\t\t'''\n",
    "\t\tпереместить веса модели на устройство device\n",
    "\t\t'''\n",
    "\t\tself.device = device\n",
    "\t\treturn super().to(device)\n",
    "\n",
    "\n",
    "\t# прямой проход\n",
    "\tdef forward(self, x):\n",
    "\n",
    "\t\tx = self.conv(x)\n",
    "\t\tx = x.view(x.size(0), -1)\n",
    "\t\tx = self.dence(x)\n",
    "\n",
    "\t\treturn self.softmax(x)\n",
    "\n",
    "\tdef fit(self, train: DataLoader, val: DataLoader, epochs: int):\n",
    "\t\t'''\n",
    "\t\tметод обучения модели\n",
    "\n",
    "\t\ttrain - тренеровочная выборка\n",
    "\t\tval - валидационная выборка\n",
    "\t\tepochs - количество эпох\n",
    "\n",
    "\t\tвозвращает картеж следующего содержания:\n",
    "\n",
    "\t\tмассив лоссов на тренеровочной выборке по эпохам\n",
    "\t\tмассив лоссов на валидационной выборке по эпохам\n",
    "\t\tмассив accuracy на тренеровочной выборке по эпохам\n",
    "\t\tмассив accuracy на валидационной выборке по эпохам\n",
    "\t\t'''\n",
    "\n",
    "\t\t# оптимизируем лосс алгоритмом adam\n",
    "\t\topt = torch.optim.Adam(self.parameters(), lr=0.001)\n",
    "\n",
    "\t\ttrain_acc = []    # массив accuracy на тренеровочной выборке по эпохам\n",
    "\t\tval_acc = []      # массив accuracy на валидационной выборке по эпохам\n",
    "\n",
    "\t\ttrain_loss = []   # массив лоссов на тренеровочной выборке по эпохам\n",
    "\t\tval_loss = []     # массив лоссов на валидационной выборке по эпохам\n",
    "\n",
    "\t\tbest_acc = 0      # лучший accuracy на валидационной выборке\n",
    "\n",
    "\t\tfor epoch in range(epochs):\n",
    "\n",
    "\t\t\t# сначала обучаем модель\n",
    "\n",
    "\t\t\t# переводим модель в режим обучения\n",
    "\t\t\tself.train()\n",
    "\n",
    "\t\t\ttrain_loop = tqdm(train, leave=False)\n",
    "\n",
    "\t\t\tcur_acc = 0\n",
    "\t\t\ttrain_loss_list = []\n",
    "\n",
    "\t\t\t# достаем батчи из загрузчика\n",
    "\t\t\tfor x, targets in train_loop:\n",
    "\n",
    "\t\t\t\t# переводим тензоры объектов и классов на устройство\n",
    "\t\t\t\tx = x.to(self.device)\n",
    "\t\t\t\ttargets = targets.to(self.device)\n",
    "\n",
    "\t\t\t\t# делаем прямой проход и считаем лосс\n",
    "\t\t\t\tpred = self(x)\n",
    "\t\t\t\tloss = self.loss(pred, targets)\n",
    "\t\t\t\ttrain_loss_list.append(loss.item())\n",
    "\n",
    "\t\t\t\t# корректируем веса\n",
    "\t\t\t\topt.zero_grad()\n",
    "\t\t\t\tloss.backward()\n",
    "\t\t\t\topt.step()\n",
    "\n",
    "\t\t\t\t# считаем accuracy на данном батче\n",
    "\t\t\t\tcur_acc += (torch.max(pred.data, 1)[1] == targets).sum().item()\n",
    "\t\t\t\tmean_train_loss = sum(train_loss_list) / len(train_loss_list)\n",
    "\n",
    "\t\t\t\t# обновляем инфу в консоли\n",
    "\t\t\t\ttrain_loop.set_description(f'Epoch {epoch + 1}/{epochs}, train_loss {mean_train_loss:.4f}')\n",
    "\n",
    "\t\t\t# считаем средний лосс и accuracy на этой эпохе для тренеровочной выборки\n",
    "\t\t\ttrain_acc.append(cur_acc / (len(train) * train.batch_size))\n",
    "\t\t\ttrain_loss.append(mean_train_loss)\n",
    "\n",
    "\t\t\t# теперь валидируем модель на этой эпохе\n",
    "\n",
    "\t\t\t# переводим модель в режим валидации\n",
    "\t\t\tself.eval()\n",
    "\t\t\twith torch.no_grad():\n",
    "\n",
    "\t\t\t\tcur_acc = 0\n",
    "\t\t\t\tval_loss_list = []\n",
    "\n",
    "\t\t\t\t# достаем батчи из загрузчика\n",
    "\t\t\t\tfor x, targets in val:\n",
    "\n",
    "\t\t\t\t\t# переводим тензоры объектов и классов на устройство\n",
    "\t\t\t\t\tx = x.to(self.device)\n",
    "\t\t\t\t\ttargets = targets.to(self.device)\n",
    "\n",
    "\t\t\t\t\t# делаем прямой проход и считаем лосс\n",
    "\t\t\t\t\tpred = self(x)\n",
    "\t\t\t\t\tloss = self.loss(pred, targets)\n",
    "\n",
    "\t\t\t\t\tval_loss_list.append(loss.item())\n",
    "\n",
    "\t\t\t\t\t# считаем accuracy на данном батче\n",
    "\t\t\t\t\tcur_acc += (torch.max(pred.data, 1)[1] == targets).sum().item()\n",
    "\t\t\t\t\tmean_val_loss = sum(val_loss_list) / len(val_loss_list)\n",
    "\n",
    "\t\t\t# считаем средний лосс и accuracy на этой эпохе для валидационной выборки\n",
    "\t\t\tval_loss.append(mean_val_loss)\n",
    "\t\t\tval_acc.append(cur_acc / (len(val) * val.batch_size))\n",
    "\n",
    "\t\t\t# если accuracy на валидации оказался больше, чем максимальный до этого, сохраняем веса\n",
    "\t\t\tif val_acc[-1] > best_acc:\n",
    "\t\t\t\ttorch.save(self.state_dict(), f\"model_acc_{val_acc[-1]:.3f}\".replace(\".\", \"\") + \".pt\")\n",
    "\t\t\t\tbest_acc = val_acc[-1]\n",
    "\n",
    "\t\t\t# печатаем текущие значения среднего лосса и accuracy\n",
    "\t\t\tprint(f'Epoch {epoch + 1}/{epochs}, train loss {train_loss[-1]:.4f}, val loss {val_loss[-1]:.4f}, train accuracy {train_acc[-1]:.4f}, val accuracy {val_acc[-1]:.4f}')\n",
    "\n",
    "\t\treturn train_loss, val_loss, train_acc, val_acc\n",
    "\n",
    "\n",
    "\tdef predict_proba(self, paths, transform: v2.Compose = None):\n",
    "\t\t'''\n",
    "\t\tметод предсказания вероятностей пренадлежнойсти к классу\n",
    "\n",
    "\t\tpaths - массив путей к файлам картинок\n",
    "\t\ttransform - объект трансформации картинок\n",
    "\t\t'''\n",
    "\n",
    "\t\t# открываем картинки по указанным путям\n",
    "\t\timgs = [Image.open(path) for path in paths]\n",
    "\n",
    "\t\t# если трансформация не задана, ставим ее по умолчанию\n",
    "\t\tif not transform:\n",
    "\t\t\ttransform = v2.Compose([v2.ToImage(), v2.ToDtype(torch.float32, scale=True)])\n",
    "\n",
    "\t\t# делаем трансформацию, переводим list в tensor и перемещаем на устройство\n",
    "\t\timgs = torch.stack(list(map(transform, imgs))).to(self.device)\n",
    "\n",
    "    \t# делаем прямой проход\n",
    "\t\tself.eval()\n",
    "\t\twith torch.no_grad():\n",
    "\t\t\tres = self(imgs).detach()\n",
    "\n",
    "\t\treturn res\n",
    "\n",
    "\n",
    "\tdef predict(self, paths, transform = None):\n",
    "\t\t'''\n",
    "\t\tметод предсказания класса\n",
    "\n",
    "\t\tpaths - массив путей к файлам картинок\n",
    "\t\ttransform - объект трансформации картинок\n",
    "\t\t'''\n",
    "\n",
    "\t\treturn torch.argmax(self.predict_proba(paths, transform), dim=1)\n"
   ]
  },
  {
   "cell_type": "markdown",
   "metadata": {
    "id": "c67t_TN_Ft-F"
   },
   "source": [
    "Создаем и обучаем модель"
   ]
  },
  {
   "cell_type": "code",
   "execution_count": 74,
   "metadata": {
    "id": "HW8MOpQkeNDA"
   },
   "outputs": [],
   "source": [
    "model = MNISTModel().to(device)"
   ]
  },
  {
   "cell_type": "code",
   "execution_count": 75,
   "metadata": {
    "colab": {
     "base_uri": "https://localhost:8080/"
    },
    "id": "DyoI2fSieSh9",
    "outputId": "a4153164-0159-4fe0-eb44-704b5f4c94ee"
   },
   "outputs": [
    {
     "name": "stderr",
     "output_type": "stream",
     "text": []
    },
    {
     "name": "stdout",
     "output_type": "stream",
     "text": [
      "Epoch 1/5, train loss 1.5367, val loss 1.4784, train accuracy 0.9313, val accuracy 0.9832\n"
     ]
    },
    {
     "name": "stderr",
     "output_type": "stream",
     "text": []
    },
    {
     "name": "stdout",
     "output_type": "stream",
     "text": [
      "Epoch 2/5, train loss 1.5021, val loss 1.4752, train accuracy 0.9600, val accuracy 0.9861\n"
     ]
    },
    {
     "name": "stderr",
     "output_type": "stream",
     "text": []
    },
    {
     "name": "stdout",
     "output_type": "stream",
     "text": [
      "Epoch 3/5, train loss 1.4954, val loss 1.4739, train accuracy 0.9662, val accuracy 0.9874\n"
     ]
    },
    {
     "name": "stderr",
     "output_type": "stream",
     "text": []
    },
    {
     "name": "stdout",
     "output_type": "stream",
     "text": [
      "Epoch 4/5, train loss 1.4912, val loss 1.4718, train accuracy 0.9702, val accuracy 0.9893\n"
     ]
    },
    {
     "name": "stderr",
     "output_type": "stream",
     "text": []
    },
    {
     "name": "stdout",
     "output_type": "stream",
     "text": [
      "Epoch 5/5, train loss 1.4886, val loss 1.4714, train accuracy 0.9728, val accuracy 0.9898\n"
     ]
    }
   ],
   "source": [
    "train_loss, val_loss, train_acc, val_acc = model.fit(train_loader, test_loader, 5)"
   ]
  },
  {
   "cell_type": "markdown",
   "metadata": {},
   "source": [
    "Точность модели на тестовой выборке достигла 0.99!"
   ]
  },
  {
   "cell_type": "markdown",
   "metadata": {
    "id": "q6wwx41hFxTE"
   },
   "source": [
    "Пробуем определить число на картинке\n",
    "\n",
    "Возьмем картинку из тестовой выборки"
   ]
  },
  {
   "cell_type": "code",
   "execution_count": 77,
   "metadata": {
    "colab": {
     "base_uri": "https://localhost:8080/",
     "height": 447
    },
    "id": "2C2sAGaHoCcP",
    "outputId": "26b1d7c2-af87-4d05-e8dc-87ced72f151c"
   },
   "outputs": [
    {
     "data": {
      "text/plain": [
       "<matplotlib.image.AxesImage at 0x79fc42137fa0>"
      ]
     },
     "execution_count": 77,
     "metadata": {},
     "output_type": "execute_result"
    },
    {
     "data": {
      "image/png": "[encoded data removed]",
      "text/plain": [
       "<Figure size 640x480 with 1 Axes>"
      ]
     },
     "metadata": {},
     "output_type": "display_data"
    }
   ],
   "source": [
    "img_path = \"dataset/MNIST/images/test/0/25.jpg\"\n",
    "\n",
    "plt.imshow(Image.open(img_path))"
   ]
  },
  {
   "cell_type": "markdown",
   "metadata": {
    "id": "_jmLLKJkGE0G"
   },
   "source": [
    "Предскажем для нее класс"
   ]
  },
  {
   "cell_type": "code",
   "execution_count": 78,
   "metadata": {
    "colab": {
     "base_uri": "https://localhost:8080/"
    },
    "id": "1r35jdv3xNVp",
    "outputId": "3dca8305-1aca-437d-d134-ef11281e5e9e"
   },
   "outputs": [
    {
     "data": {
      "text/plain": [
       "tensor([0], device='cuda:0')"
      ]
     },
     "execution_count": 78,
     "metadata": {},
     "output_type": "execute_result"
    }
   ],
   "source": [
    "model.predict([img_path], transform)"
   ]
  },
  {
   "cell_type": "markdown",
   "metadata": {},
   "source": [
    "Сохраняем веса модели"
   ]
  },
  {
   "cell_type": "code",
   "execution_count": null,
   "metadata": {},
   "outputs": [],
   "source": [
    "torch.save(model.state_dict(), \"model.pt\")"
   ]
  }
 ],
 "metadata": {
  "accelerator": "GPU",
  "colab": {
   "gpuType": "T4",
   "provenance": []
  },
  "kernelspec": {
   "display_name": "base",
   "language": "python",
   "name": "python3"
  },
  "language_info": {
   "codemirror_mode": {
    "name": "ipython",
    "version": 3
   },
   "file_extension": ".py",
   "mimetype": "text/x-python",
   "name": "python",
   "nbconvert_exporter": "python",
   "pygments_lexer": "ipython3",
   "version": "3.12.3"
  }
 },
 "nbformat": 4,
 "nbformat_minor": 0
}
